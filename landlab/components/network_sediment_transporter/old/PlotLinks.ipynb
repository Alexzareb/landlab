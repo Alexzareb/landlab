{
 "cells": [
  {
   "cell_type": "code",
   "execution_count": null,
   "metadata": {},
   "outputs": [],
   "source": [
    "from landlab import RasterModelGrid\n",
    "import numpy as np\n",
    "import matplotlib.pyplot as plt\n",
    "\n",
    "from matplotlib.collections import LineCollection\n"
   ]
  },
  {
   "cell_type": "code",
   "execution_count": null,
   "metadata": {},
   "outputs": [],
   "source": [
    "grid = RasterModelGrid((5, 5))\n",
    "f = grid.add_field(\"link\", \"f\", np.random.randn(grid.number_of_links) + grid.x_of_link + grid.y_of_link)"
   ]
  },
  {
   "cell_type": "code",
   "execution_count": null,
   "metadata": {},
   "outputs": [],
   "source": [
    "segments = []\n",
    "\n",
    "for i in grid.active_links:\n",
    "    \n",
    "    head_idx = grid.node_at_link_head[i]\n",
    "    tail_idx = grid.node_at_link_tail[i]\n",
    "    \n",
    "    x0 = grid.x_of_node[head_idx]\n",
    "    x1 = grid.x_of_node[tail_idx]\n",
    "    y0 = grid.y_of_node[head_idx]\n",
    "    y1 = grid.y_of_node[tail_idx]\n",
    "\n",
    "    seg = [(x0, y0),(x1, y1)]\n",
    "    segments.append(seg)                        "
   ]
  },
  {
   "cell_type": "code",
   "execution_count": null,
   "metadata": {},
   "outputs": [],
   "source": [
    "# We need to set the plot limits, they will not autoscale\n",
    "fig, ax = plt.subplots()\n",
    "ax.set_xlim(grid.x_of_node.min(), grid.x_of_node.max())\n",
    "ax.set_ylim(grid.y_of_node.min(), grid.y_of_node.max())\n",
    "\n",
    "line_segments = LineCollection(segments)\n",
    "line_segments.set_array(f)\n",
    "ax.add_collection(line_segments)\n",
    "axcb = fig.colorbar(line_segments)\n",
    "\n",
    "plt.show()"
   ]
  },
  {
   "cell_type": "code",
   "execution_count": null,
   "metadata": {},
   "outputs": [],
   "source": []
  }
 ],
 "metadata": {
  "kernelspec": {
   "display_name": "Python 3",
   "language": "python",
   "name": "python3"
  },
  "language_info": {
   "codemirror_mode": {
    "name": "ipython",
    "version": 3
   },
   "file_extension": ".py",
   "mimetype": "text/x-python",
   "name": "python",
   "nbconvert_exporter": "python",
   "pygments_lexer": "ipython3",
   "version": "3.7.3"
  }
 },
 "nbformat": 4,
 "nbformat_minor": 2
}
