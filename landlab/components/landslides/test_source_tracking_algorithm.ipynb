{
 "cells": [
  {
   "cell_type": "raw",
   "metadata": {},
   "source": []
  },
  {
   "cell_type": "markdown",
   "metadata": {},
   "source": [
    "Authors: Sai Nudurupati & Erkan Istanbulluoglu\n",
    "\n",
    "Date: 18 Apr 2017\n",
    "\n",
    "This code tests the functioning of SourceTrackingAlgorithm.py, which is currently in the process of being inhaled as an utility of Landlab along with Ronda Strauch's updated LandslideProbability component which is being submitted to GMD shortly.\n",
    "\n",
    "What does Source Tracking Algorithm (STA) do?\n",
    "STA is a Landlab utility that operates on a grid, which is a Landlab’s RasterModelGrid instance, and records all upstream nodes for each node in the grid. "
   ]
  },
  {
   "cell_type": "markdown",
   "metadata": {},
   "source": [
    "Import required libraries"
   ]
  },
  {
   "cell_type": "code",
   "execution_count": 4,
   "metadata": {
    "collapsed": false
   },
   "outputs": [],
   "source": [
    "from landlab.io.esri_ascii import read_esri_ascii\n",
    "from landlab.utils import source_tracking_algorithm as STA\n",
    "import cPickle as pickle"
   ]
  },
  {
   "cell_type": "code",
   "execution_count": 5,
   "metadata": {
    "collapsed": true
   },
   "outputs": [],
   "source": [
    "import numpy as np\n",
    "from landlab import RasterModelGrid as rmg\n",
    "from landlab.components.flow_routing.route_flow_dn import FlowRouter"
   ]
  },
  {
   "cell_type": "markdown",
   "metadata": {},
   "source": [
    "In this example, we will use a synthetic grid, which has two stream networks in itself. One of the stream network has multiple segments. This grid is assumed to present a comprehensive test of scenarios to legitimate the expected functioning of this utility."
   ]
  },
  {
   "cell_type": "code",
   "execution_count": 6,
   "metadata": {
    "collapsed": false
   },
   "outputs": [],
   "source": [
    "## Eg5: 5X5 Elevation grid\n",
    "grid = rmg(5,5,1.)\n",
    "z = np.array([5., 5., 5., 5., 5.,\n",
    "              5., 4., 5., 1., 5.,\n",
    "              0., 3., 5., 3., 0.,\n",
    "              5., 4., 5., 2., 5., \n",
    "              5., 5., 5., 5., 5.])"
   ]
  },
  {
   "cell_type": "markdown",
   "metadata": {},
   "source": [
    "The input grid has two outlets. Since these outlets are perimeter nodes (inactive), these nodes will not be part of core_nodes. Hence, we need to change the status of these nodes to active."
   ]
  },
  {
   "cell_type": "code",
   "execution_count": 7,
   "metadata": {
    "collapsed": true
   },
   "outputs": [],
   "source": [
    "grid.status_at_node[10] = 0\n",
    "grid.status_at_node[14] = 0"
   ]
  },
  {
   "cell_type": "markdown",
   "metadata": {},
   "source": [
    "You can see that these outlets are now 'core_nodes'."
   ]
  },
  {
   "cell_type": "code",
   "execution_count": 8,
   "metadata": {
    "collapsed": false
   },
   "outputs": [
    {
     "data": {
      "text/plain": [
       "array([ 6,  7,  8, 10, 11, 12, 13, 14, 16, 17, 18])"
      ]
     },
     "execution_count": 8,
     "metadata": {},
     "output_type": "execute_result"
    }
   ],
   "source": [
    "grid.core_nodes"
   ]
  },
  {
   "cell_type": "markdown",
   "metadata": {},
   "source": [
    "Create a field 'topographic__elevation' on landlab grid to hold elevation data."
   ]
  },
  {
   "cell_type": "code",
   "execution_count": 9,
   "metadata": {
    "collapsed": true
   },
   "outputs": [],
   "source": [
    "grid.at_node['topographic__elevation'] = z"
   ]
  },
  {
   "cell_type": "markdown",
   "metadata": {},
   "source": [
    "Route flow using Landlab's component 'FlowRouter'. Landlab's FlowRouter creates a nodal field on the grid named 'flow__receiver_node' which points to the receiver node for each node in the grid. Check Landlab tutorials for using other Landlab tools to route flow across Digital Elevation Models (DEM) with flat surfaces."
   ]
  },
  {
   "cell_type": "code",
   "execution_count": 10,
   "metadata": {
    "collapsed": true
   },
   "outputs": [],
   "source": [
    "fr = FlowRouter(grid)\n",
    "fr.route_flow()\n",
    "r = grid.at_node['flow__receiver_node']"
   ]
  },
  {
   "cell_type": "code",
   "execution_count": 11,
   "metadata": {
    "collapsed": false
   },
   "outputs": [
    {
     "data": {
      "text/plain": [
       "array([ 0,  1,  2,  3,  4,  5, 10,  8, 14,  9, 10, 10,  8, 14, 14, 15, 10,\n",
       "       18, 14, 19, 20, 21, 22, 23, 24])"
      ]
     },
     "execution_count": 11,
     "metadata": {},
     "output_type": "execute_result"
    }
   ],
   "source": [
    "r"
   ]
  },
  {
   "cell_type": "code",
   "execution_count": 12,
   "metadata": {
    "collapsed": false
   },
   "outputs": [
    {
     "data": {
      "text/plain": [
       "14"
      ]
     },
     "execution_count": 12,
     "metadata": {},
     "output_type": "execute_result"
    }
   ],
   "source": [
    "r[18]"
   ]
  },
  {
   "cell_type": "markdown",
   "metadata": {},
   "source": [
    "If one has ESRI ArcGIS derived flow directions, STA's method 'convert_arc_flow_directions_to_landlab_node_ids' to convert these flow directions into Landlab's receiver node id.\n",
    "\n",
    "Sample code to use flow directions from ArcGIS:\n",
    "grid, flow_dir_arc = read_esri_ascii('./Input_files/flow_direction.txt', name='flow_dir', grid=grid)\n",
    "r = convert_arc_flow_directions_to_landlab_node_ids(grid, flow_dir_arc)"
   ]
  },
  {
   "cell_type": "markdown",
   "metadata": {},
   "source": [
    "This code was originally written to derive weighted Recharge, from a coarser grid compared to the model domain, based on portions of upstream contributing area. Here 'hsd_ids' represent the ids of Hydrologic Source Domain (HSD). \n",
    "\n",
    "NOTE: If you would like to just derive all upstream ids of the model domain, provide ids of the model domain instead. Replacing the following cell with this code:\n",
    "hsd_ids = grid.nodes.flatten()"
   ]
  },
  {
   "cell_type": "code",
   "execution_count": 13,
   "metadata": {
    "collapsed": true
   },
   "outputs": [],
   "source": [
    "hsd_ids = np.empty(grid.number_of_nodes, dtype=int)"
   ]
  },
  {
   "cell_type": "markdown",
   "metadata": {},
   "source": [
    "For testing this algorithm, I am assuming that the grid nodes 2, 3, 4, 7, 8, 9 fall under HSD id '0' and rest of the grid nodes fall under HSD id '1'."
   ]
  },
  {
   "cell_type": "code",
   "execution_count": 14,
   "metadata": {
    "collapsed": false
   },
   "outputs": [],
   "source": [
    "hsd_ids[:] = 1\n",
    "hsd_ids[2:5] = 0\n",
    "hsd_ids[7:10] = 0"
   ]
  },
  {
   "cell_type": "markdown",
   "metadata": {},
   "source": [
    "Printing HSD ids"
   ]
  },
  {
   "cell_type": "code",
   "execution_count": 15,
   "metadata": {
    "collapsed": false
   },
   "outputs": [
    {
     "data": {
      "text/plain": [
       "array([1, 1, 0, 0, 0, 1, 1, 0, 0, 0, 1, 1, 1, 1, 1, 1, 1, 1, 1, 1, 1, 1, 1,\n",
       "       1, 1])"
      ]
     },
     "execution_count": 15,
     "metadata": {},
     "output_type": "execute_result"
    }
   ],
   "source": [
    "hsd_ids"
   ]
  },
  {
   "cell_type": "markdown",
   "metadata": {},
   "source": [
    "To record all upstream HSD ids, we will have to run the function 'track_source'."
   ]
  },
  {
   "cell_type": "code",
   "execution_count": 16,
   "metadata": {
    "collapsed": false
   },
   "outputs": [],
   "source": [
    "(hsd_upstr, flow_accum) = STA.track_source(grid, r, hsd_ids)"
   ]
  },
  {
   "cell_type": "markdown",
   "metadata": {},
   "source": [
    "hsd_upstr is a Python dictionary that maps every grid core node id to all contributing HSD ids {keys=model grid core node: values=upstream HSD ids contributing to this grid core node}"
   ]
  },
  {
   "cell_type": "code",
   "execution_count": 17,
   "metadata": {
    "collapsed": false
   },
   "outputs": [
    {
     "data": {
      "text/plain": [
       "{6: [1],\n",
       " 7: [0],\n",
       " 8: [1, 0, 0],\n",
       " 10: [1, 1, 1, 1],\n",
       " 11: [1],\n",
       " 12: [1],\n",
       " 13: [1],\n",
       " 14: [1, 1, 1, 1, 0, 0, 1],\n",
       " 16: [1],\n",
       " 17: [1],\n",
       " 18: [1, 1]}"
      ]
     },
     "execution_count": 17,
     "metadata": {},
     "output_type": "execute_result"
    }
   ],
   "source": [
    "hsd_upstr"
   ]
  },
  {
   "cell_type": "code",
   "execution_count": 18,
   "metadata": {
    "collapsed": false
   },
   "outputs": [
    {
     "data": {
      "text/plain": [
       "array([0, 0, 0, 0, 0, 0, 1, 1, 3, 0, 4, 1, 1, 1, 7, 0, 1, 1, 2, 0, 0, 0, 0,\n",
       "       0, 0])"
      ]
     },
     "execution_count": 18,
     "metadata": {},
     "output_type": "execute_result"
    }
   ],
   "source": [
    "flow_accum"
   ]
  },
  {
   "cell_type": "code",
   "execution_count": 19,
   "metadata": {
    "collapsed": false
   },
   "outputs": [
    {
     "data": {
      "text/plain": [
       "7"
      ]
     },
     "execution_count": 19,
     "metadata": {},
     "output_type": "execute_result"
    }
   ],
   "source": [
    "flow_accum[14]"
   ]
  },
  {
   "cell_type": "markdown",
   "metadata": {},
   "source": [
    "If one wants to get the upstream HSD ids (without repitition) and fractions of contribution, run the function 'find_unique_upstream_hsd_ids_and_fractions()'"
   ]
  },
  {
   "cell_type": "code",
   "execution_count": 20,
   "metadata": {
    "collapsed": true
   },
   "outputs": [],
   "source": [
    "(uniq_ids, coeff) = STA.find_unique_upstream_hsd_ids_and_fractions(hsd_upstr)"
   ]
  },
  {
   "cell_type": "markdown",
   "metadata": {},
   "source": [
    "'uniq_ids' is a Python dictionary that maps each grid core node id to all contributing HSD ids (without repitition) {keys=model grid core node: values=upstream HSD ids contributing to this grid core node without repitition}."
   ]
  },
  {
   "cell_type": "code",
   "execution_count": 21,
   "metadata": {
    "collapsed": false
   },
   "outputs": [
    {
     "data": {
      "text/plain": [
       "{6: [1],\n",
       " 7: [0],\n",
       " 8: [0, 1],\n",
       " 10: [1],\n",
       " 11: [1],\n",
       " 12: [1],\n",
       " 13: [1],\n",
       " 14: [0, 1],\n",
       " 16: [1],\n",
       " 17: [1],\n",
       " 18: [1]}"
      ]
     },
     "execution_count": 21,
     "metadata": {},
     "output_type": "execute_result"
    }
   ],
   "source": [
    "uniq_ids"
   ]
  },
  {
   "cell_type": "markdown",
   "metadata": {},
   "source": [
    "'coeff' is a Python dictionary that maps each grid core node id to the fractions of contribution from HSD ids in the same order as uniq_ids[key] {keys=model grid core node: values=fractions of upstream HSD ids contributing to this node in the same order as uniq_ids[key]}"
   ]
  },
  {
   "cell_type": "code",
   "execution_count": 22,
   "metadata": {
    "collapsed": false
   },
   "outputs": [
    {
     "data": {
      "text/plain": [
       "{6: [1.0],\n",
       " 7: [1.0],\n",
       " 8: [0.6666666666666666, 0.3333333333333333],\n",
       " 10: [1.0],\n",
       " 11: [1.0],\n",
       " 12: [1.0],\n",
       " 13: [1.0],\n",
       " 14: [0.2857142857142857, 0.7142857142857143],\n",
       " 16: [1.0],\n",
       " 17: [1.0],\n",
       " 18: [1.0]}"
      ]
     },
     "execution_count": 22,
     "metadata": {},
     "output_type": "execute_result"
    }
   ],
   "source": [
    "coeff"
   ]
  }
 ],
 "metadata": {
  "kernelspec": {
   "display_name": "Python [default]",
   "language": "python",
   "name": "python2"
  },
  "language_info": {
   "codemirror_mode": {
    "name": "ipython",
    "version": 2
   },
   "file_extension": ".py",
   "mimetype": "text/x-python",
   "name": "python",
   "nbconvert_exporter": "python",
   "pygments_lexer": "ipython2",
   "version": "2.7.13"
  }
 },
 "nbformat": 4,
 "nbformat_minor": 2
}
